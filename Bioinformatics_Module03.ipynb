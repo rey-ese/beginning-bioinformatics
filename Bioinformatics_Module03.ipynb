{
  "nbformat": 4,
  "nbformat_minor": 0,
  "metadata": {
    "colab": {
      "provenance": [],
      "authorship_tag": "ABX9TyNAD2TKsmnhtGWNlejjdu2m",
      "include_colab_link": true
    },
    "kernelspec": {
      "name": "python3",
      "display_name": "Python 3"
    },
    "language_info": {
      "name": "python"
    }
  },
  "cells": [
    {
      "cell_type": "markdown",
      "metadata": {
        "id": "view-in-github",
        "colab_type": "text"
      },
      "source": [
        "<a href=\"https://colab.research.google.com/github/rey-ese/beginning-bioinformatics/blob/main/Bioinformatics_Module03.ipynb\" target=\"_parent\"><img src=\"https://colab.research.google.com/assets/colab-badge.svg\" alt=\"Open In Colab\"/></a>"
      ]
    },
    {
      "cell_type": "code",
      "execution_count": null,
      "metadata": {
        "colab": {
          "base_uri": "https://localhost:8080/"
        },
        "id": "cfE5tNgUWs8h",
        "outputId": "f33eaa3e-535b-4298-8957-a93512ef6aa5"
      },
      "outputs": [
        {
          "output_type": "stream",
          "name": "stdout",
          "text": [
            "hello world\n"
          ]
        }
      ],
      "source": [
        "print (\"hello world\")"
      ]
    },
    {
      "cell_type": "code",
      "source": [
        "# Rosalind Task 1:\n",
        "a=882\n",
        "b=934\n",
        "c=a**2+b**2\n",
        "print ('a + b is', c)"
      ],
      "metadata": {
        "id": "_ZNCvK6PXmS7",
        "colab": {
          "base_uri": "https://localhost:8080/"
        },
        "outputId": "c883d154-7d22-469b-b0ab-f1063c0fe2e6"
      },
      "execution_count": null,
      "outputs": [
        {
          "output_type": "stream",
          "name": "stdout",
          "text": [
            "a + b is 1650280\n"
          ]
        }
      ]
    },
    {
      "cell_type": "code",
      "source": [
        "a=int(input(\"enter a value for a:\"))\n",
        "print (\"The value of a is\", a)"
      ],
      "metadata": {
        "colab": {
          "base_uri": "https://localhost:8080/"
        },
        "id": "V2c5KNg_pJtP",
        "outputId": "ae8d2e11-9b57-4aa0-e50f-1ee46e2a1a92"
      },
      "execution_count": null,
      "outputs": [
        {
          "output_type": "stream",
          "name": "stdout",
          "text": [
            "enter a value for a:900\n",
            "The value of a is 900\n"
          ]
        }
      ]
    },
    {
      "cell_type": "code",
      "source": [
        "name=input(\"Your name here: \")\n",
        "print(\"Hello \" + name)"
      ],
      "metadata": {
        "colab": {
          "base_uri": "https://localhost:8080/"
        },
        "id": "145avJT7-IE_",
        "outputId": "2d24d378-dae4-4821-ed46-707d5c2908cf"
      },
      "execution_count": null,
      "outputs": [
        {
          "output_type": "stream",
          "name": "stdout",
          "text": [
            "Your name here: Manny\n",
            "Hello Manny\n"
          ]
        }
      ]
    },
    {
      "cell_type": "code",
      "source": [
        "my_list=(\"Hello\", \"New Item\", \"World\", \"Alfred R. Wallace\", \"Charles Darwin\")\n",
        "print(my_list[2:4])"
      ],
      "metadata": {
        "colab": {
          "base_uri": "https://localhost:8080/"
        },
        "id": "0nWIi5xrPHZC",
        "outputId": "97c8ddea-982d-442c-bda8-e5edb13c33af"
      },
      "execution_count": null,
      "outputs": [
        {
          "output_type": "stream",
          "name": "stdout",
          "text": [
            "('World', 'Alfred R. Wallace')\n"
          ]
        }
      ]
    },
    {
      "cell_type": "code",
      "source": [
        "my_string=\"HelloWorldCharlesDarwinAlfred R. Wallace\"\n",
        "print(my_string[33:40],my_string[5:10])"
      ],
      "metadata": {
        "colab": {
          "base_uri": "https://localhost:8080/"
        },
        "id": "m3xACY__Pla4",
        "outputId": "2063f7d9-5dcd-4ab6-e6c8-4f94bcf2bd60"
      },
      "execution_count": null,
      "outputs": [
        {
          "output_type": "stream",
          "name": "stdout",
          "text": [
            "Wallace World\n"
          ]
        }
      ]
    },
    {
      "cell_type": "code",
      "source": [
        "# Rosalind Task 2:\n",
        "RT2_Dataset=\"4aTyElQD3XllccrybffdiJETrfxEOlzYoEuHmhibotNI63QxnWfpasqTYl0hkeFCardiocraniusoh4Q3rjDRTO3ydBX2ysoXqFLfkgb5NvMTcI2HJLwscincussn8loR4xfLDiC7esYhagR08Jx7TXvYrHDIzc.\"\n",
        "print(RT2_Dataset[63:76], RT2_Dataset[116:123])"
      ],
      "metadata": {
        "colab": {
          "base_uri": "https://localhost:8080/"
        },
        "id": "dKZWHUT3SAR3",
        "outputId": "acd1e1c8-9106-4e5b-e7bd-23ca5684dcac"
      },
      "execution_count": null,
      "outputs": [
        {
          "output_type": "stream",
          "name": "stdout",
          "text": [
            "Cardiocranius scincus\n"
          ]
        }
      ]
    },
    {
      "cell_type": "code",
      "source": [
        "a=5\n",
        "b=5\n",
        "if a!=5:\n",
        "  print(a-b)\n",
        "else:\n",
        "  print(a+b)"
      ],
      "metadata": {
        "colab": {
          "base_uri": "https://localhost:8080/"
        },
        "id": "iQt-8ofsX_UR",
        "outputId": "800a0a78-6833-44c4-b7b9-51e0c1582914"
      },
      "execution_count": null,
      "outputs": [
        {
          "output_type": "stream",
          "name": "stdout",
          "text": [
            "10\n"
          ]
        }
      ]
    },
    {
      "cell_type": "code",
      "source": [
        "a=1\n",
        "while a<=3:\n",
        "  print (\"Counting!\"*a)\n",
        "  a+=1"
      ],
      "metadata": {
        "colab": {
          "base_uri": "https://localhost:8080/"
        },
        "id": "3ilNJ0FgYNcw",
        "outputId": "c5229a14-186b-47dc-c5f5-9c6d24fe9d25"
      },
      "execution_count": null,
      "outputs": [
        {
          "output_type": "stream",
          "name": "stdout",
          "text": [
            "Counting!\n",
            "Counting!Counting!\n",
            "Counting!Counting!Counting!\n"
          ]
        }
      ]
    },
    {
      "cell_type": "code",
      "source": [
        "names=[\"Alice\",\"Bob\",\"Charley\"]\n",
        "for name in names:\n",
        "  print(\"Hello\",name)"
      ],
      "metadata": {
        "colab": {
          "base_uri": "https://localhost:8080/"
        },
        "id": "6w40NPDvfurr",
        "outputId": "efe0de3b-c36f-486c-c0e0-bd4fccdec530"
      },
      "execution_count": null,
      "outputs": [
        {
          "output_type": "stream",
          "name": "stdout",
          "text": [
            "Hello Alice\n",
            "Hello Bob\n",
            "Hello Charley\n"
          ]
        }
      ]
    },
    {
      "cell_type": "code",
      "source": [
        "iterations=10\n",
        "for number in range(iterations):\n",
        "  print(number)"
      ],
      "metadata": {
        "colab": {
          "base_uri": "https://localhost:8080/"
        },
        "id": "wLSOIqCTh-Cz",
        "outputId": "db54b095-8400-46a6-a019-18159de492ba"
      },
      "execution_count": null,
      "outputs": [
        {
          "output_type": "stream",
          "name": "stdout",
          "text": [
            "0\n",
            "1\n",
            "2\n",
            "3\n",
            "4\n",
            "5\n",
            "6\n",
            "7\n",
            "8\n",
            "9\n"
          ]
        }
      ]
    },
    {
      "cell_type": "code",
      "source": [
        "x=range(9,28,3)\n",
        "for number in x:\n",
        "  print(number)"
      ],
      "metadata": {
        "colab": {
          "base_uri": "https://localhost:8080/"
        },
        "id": "ki0-1s-tlHBP",
        "outputId": "cf72ad8e-7700-4b81-a41a-eab35010d8ec"
      },
      "execution_count": null,
      "outputs": [
        {
          "output_type": "stream",
          "name": "stdout",
          "text": [
            "9\n",
            "12\n",
            "15\n",
            "18\n",
            "21\n",
            "24\n",
            "27\n"
          ]
        }
      ]
    },
    {
      "cell_type": "code",
      "source": [
        "x=0\n",
        "integers=range(4514,9257)\n",
        "for number in integers:\n",
        "  if number%2==1:\n",
        "    x+=number\n",
        "  else:\n",
        "    x+=0\n",
        "print(x)\n",
        "\n",
        "\n"
      ],
      "metadata": {
        "colab": {
          "base_uri": "https://localhost:8080/"
        },
        "id": "QxV-P3P9nScP",
        "outputId": "125aa45a-77a5-4b44-bf9b-9ed8e0547b65"
      },
      "execution_count": null,
      "outputs": [
        {
          "output_type": "stream",
          "name": "stdout",
          "text": [
            "16324335\n"
          ]
        }
      ]
    },
    {
      "cell_type": "code",
      "source": [
        "with open(\"Practice.txt\", \"r\") as data:\n",
        "  print(data.read())\n",
        "  #print(data.readline())\n",
        "  #print(data.readlines())"
      ],
      "metadata": {
        "colab": {
          "base_uri": "https://localhost:8080/"
        },
        "id": "tmaxokhgzqYk",
        "outputId": "564a1e87-3355-4d05-b629-351f17c5c33a"
      },
      "execution_count": 21,
      "outputs": [
        {
          "output_type": "stream",
          "name": "stdout",
          "text": [
            "Bravely bold Sir Robin rode forth from Camelot\n",
            "Yes, brave Sir Robin turned about\n",
            "He was not afraid to die, O brave Sir Robin\n",
            "And gallantly he chickened out\n",
            "He was not at all afraid to be killed in nasty ways\n",
            "Bravely talking to his feet\n",
            "Brave, brave, brave, brave Sir Robin\n",
            "He beat a very brave retreat\n"
          ]
        }
      ]
    },
    {
      "cell_type": "code",
      "source": [
        "with open(\"Practice.txt\", \"r\") as data:\n",
        "  list_of_lines=data.readlines()\n",
        "print(\"\".join(list_of_lines))\n",
        "#print(list_of_lines)"
      ],
      "metadata": {
        "colab": {
          "base_uri": "https://localhost:8080/"
        },
        "id": "NuoovRcU9u3b",
        "outputId": "7c7369fa-34a9-42e1-c419-327e458dab6e"
      },
      "execution_count": 22,
      "outputs": [
        {
          "output_type": "stream",
          "name": "stdout",
          "text": [
            "Bravely bold Sir Robin rode forth from Camelot\n",
            "Yes, brave Sir Robin turned about\n",
            "He was not afraid to die, O brave Sir Robin\n",
            "And gallantly he chickened out\n",
            "He was not at all afraid to be killed in nasty ways\n",
            "Bravely talking to his feet\n",
            "Brave, brave, brave, brave Sir Robin\n",
            "He beat a very brave retreat\n"
          ]
        }
      ]
    },
    {
      "cell_type": "code",
      "source": [
        "with open(\"Practice.txt\") as data:\n",
        "  for line in data:\n",
        "    #print(line, end=\"\")\n",
        "    print(line.rstrip())"
      ],
      "metadata": {
        "colab": {
          "base_uri": "https://localhost:8080/"
        },
        "id": "OhfKprb6FkpJ",
        "outputId": "45171bec-8bd1-40e0-ada9-d4a8dcce9368"
      },
      "execution_count": 26,
      "outputs": [
        {
          "output_type": "stream",
          "name": "stdout",
          "text": [
            "Bravely bold Sir Robin rode forth from Camelot\n",
            "Yes, brave Sir Robin turned about\n",
            "He was not afraid to die, O brave Sir Robin\n",
            "And gallantly he chickened out\n",
            "He was not at all afraid to be killed in nasty ways\n",
            "Bravely talking to his feet\n",
            "Brave, brave, brave, brave Sir Robin\n",
            "He beat a very brave retreat\n"
          ]
        }
      ]
    },
    {
      "cell_type": "code",
      "source": [
        "x=0\n",
        "with open(\"Practice.txt\",\"r\") as data:\n",
        "  lines=data.readlines()\n",
        "  for line in lines:\n",
        "    if x%2==1:\n",
        "      x+=1\n",
        "    else:\n",
        "      print(line)\n",
        "      x+=1\n",
        "\n"
      ],
      "metadata": {
        "colab": {
          "base_uri": "https://localhost:8080/"
        },
        "id": "qOmVsU-Tk3ph",
        "outputId": "f0fd3144-1c9c-4a7a-92ad-835b90dec9b5"
      },
      "execution_count": 69,
      "outputs": [
        {
          "output_type": "stream",
          "name": "stdout",
          "text": [
            "Bravely bold Sir Robin rode forth from Camelot\n",
            "\n",
            "He was not afraid to die, O brave Sir Robin\n",
            "\n",
            "He was not at all afraid to be killed in nasty ways\n",
            "\n",
            "Brave, brave, brave, brave Sir Robin\n",
            "\n"
          ]
        }
      ]
    },
    {
      "cell_type": "code",
      "source": [
        "x=1\n",
        "with open(\"Practice.txt\",\"r\") as data:\n",
        "  lines=data.readlines()\n",
        "  for line in lines:\n",
        "    if x%2==1:\n",
        "      x+=1\n",
        "    else:\n",
        "      print(line)\n",
        "      x+=1\n",
        "\n"
      ],
      "metadata": {
        "colab": {
          "base_uri": "https://localhost:8080/"
        },
        "outputId": "d49b1dda-9482-4124-d566-ba9e94cd31df",
        "id": "4MX1qtGYFmdd"
      },
      "execution_count": 68,
      "outputs": [
        {
          "output_type": "stream",
          "name": "stdout",
          "text": [
            "Yes, brave Sir Robin turned about\n",
            "\n",
            "And gallantly he chickened out\n",
            "\n",
            "Bravely talking to his feet\n",
            "\n",
            "He beat a very brave retreat\n"
          ]
        }
      ]
    },
    {
      "cell_type": "code",
      "source": [
        "x=1\n",
        "with open(\"rosalind_ini5.txt\",\"r\") as data:\n",
        "  lines=data.readlines()\n",
        "  f=open(\"output.txt\",\"w\")\n",
        "  for line in lines:\n",
        "    if x%2==1:\n",
        "      x+=1\n",
        "    else:\n",
        "      f.write(str(line)+\"\\n\")\n",
        "      x+=1\n",
        "  f.close()\n",
        ""
      ],
      "metadata": {
        "id": "d7C-K5wgM1PC"
      },
      "execution_count": 80,
      "outputs": []
    }
  ]
}