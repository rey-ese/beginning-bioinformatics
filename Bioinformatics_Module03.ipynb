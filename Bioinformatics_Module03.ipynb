{
  "nbformat": 4,
  "nbformat_minor": 0,
  "metadata": {
    "colab": {
      "provenance": [],
      "authorship_tag": "ABX9TyO9Clve4vRMZ8CtmfRlGBUK",
      "include_colab_link": true
    },
    "kernelspec": {
      "name": "python3",
      "display_name": "Python 3"
    },
    "language_info": {
      "name": "python"
    }
  },
  "cells": [
    {
      "cell_type": "markdown",
      "metadata": {
        "id": "view-in-github",
        "colab_type": "text"
      },
      "source": [
        "<a href=\"https://colab.research.google.com/github/rey-ese/beginning-bioinformatics/blob/main/Bioinformatics_Module03.ipynb\" target=\"_parent\"><img src=\"https://colab.research.google.com/assets/colab-badge.svg\" alt=\"Open In Colab\"/></a>"
      ]
    },
    {
      "cell_type": "code",
      "execution_count": null,
      "metadata": {
        "colab": {
          "base_uri": "https://localhost:8080/"
        },
        "id": "cfE5tNgUWs8h",
        "outputId": "f33eaa3e-535b-4298-8957-a93512ef6aa5"
      },
      "outputs": [
        {
          "output_type": "stream",
          "name": "stdout",
          "text": [
            "hello world\n"
          ]
        }
      ],
      "source": [
        "print (\"hello world\")"
      ]
    },
    {
      "cell_type": "code",
      "source": [
        "# Rosalind Task 1:\n",
        "a=882\n",
        "b=934\n",
        "c=a**2+b**2\n",
        "print ('a + b is', c)"
      ],
      "metadata": {
        "id": "_ZNCvK6PXmS7",
        "colab": {
          "base_uri": "https://localhost:8080/"
        },
        "outputId": "c883d154-7d22-469b-b0ab-f1063c0fe2e6"
      },
      "execution_count": 31,
      "outputs": [
        {
          "output_type": "stream",
          "name": "stdout",
          "text": [
            "a + b is 1650280\n"
          ]
        }
      ]
    },
    {
      "cell_type": "code",
      "source": [
        "a=int(input(\"enter a value for a:\"))\n",
        "print (\"The value of a is\", a)"
      ],
      "metadata": {
        "colab": {
          "base_uri": "https://localhost:8080/"
        },
        "id": "V2c5KNg_pJtP",
        "outputId": "ae8d2e11-9b57-4aa0-e50f-1ee46e2a1a92"
      },
      "execution_count": null,
      "outputs": [
        {
          "output_type": "stream",
          "name": "stdout",
          "text": [
            "enter a value for a:900\n",
            "The value of a is 900\n"
          ]
        }
      ]
    },
    {
      "cell_type": "code",
      "source": [
        "name=input(\"Your name here: \")\n",
        "print(\"Hello \" + name)"
      ],
      "metadata": {
        "colab": {
          "base_uri": "https://localhost:8080/"
        },
        "id": "145avJT7-IE_",
        "outputId": "2d24d378-dae4-4821-ed46-707d5c2908cf"
      },
      "execution_count": 21,
      "outputs": [
        {
          "output_type": "stream",
          "name": "stdout",
          "text": [
            "Your name here: Manny\n",
            "Hello Manny\n"
          ]
        }
      ]
    },
    {
      "cell_type": "code",
      "source": [
        "my_list=(\"Hello\", \"New Item\", \"World\", \"Alfred R. Wallace\", \"Charles Darwin\")\n",
        "print(my_list[2:4])"
      ],
      "metadata": {
        "colab": {
          "base_uri": "https://localhost:8080/"
        },
        "id": "0nWIi5xrPHZC",
        "outputId": "97c8ddea-982d-442c-bda8-e5edb13c33af"
      },
      "execution_count": 22,
      "outputs": [
        {
          "output_type": "stream",
          "name": "stdout",
          "text": [
            "('World', 'Alfred R. Wallace')\n"
          ]
        }
      ]
    },
    {
      "cell_type": "code",
      "source": [
        "my_string=\"HelloWorldCharlesDarwinAlfred R. Wallace\"\n",
        "print(my_string[33:40],my_string[5:10])"
      ],
      "metadata": {
        "colab": {
          "base_uri": "https://localhost:8080/"
        },
        "id": "m3xACY__Pla4",
        "outputId": "2063f7d9-5dcd-4ab6-e6c8-4f94bcf2bd60"
      },
      "execution_count": 26,
      "outputs": [
        {
          "output_type": "stream",
          "name": "stdout",
          "text": [
            "Wallace World\n"
          ]
        }
      ]
    },
    {
      "cell_type": "code",
      "source": [
        "# Rosalind Task 2:\n",
        "RT2_Dataset=\"4aTyElQD3XllccrybffdiJETrfxEOlzYoEuHmhibotNI63QxnWfpasqTYl0hkeFCardiocraniusoh4Q3rjDRTO3ydBX2ysoXqFLfkgb5NvMTcI2HJLwscincussn8loR4xfLDiC7esYhagR08Jx7TXvYrHDIzc.\"\n",
        "print(RT2_Dataset[63:76], RT2_Dataset[116:123])"
      ],
      "metadata": {
        "colab": {
          "base_uri": "https://localhost:8080/"
        },
        "id": "dKZWHUT3SAR3",
        "outputId": "acd1e1c8-9106-4e5b-e7bd-23ca5684dcac"
      },
      "execution_count": 30,
      "outputs": [
        {
          "output_type": "stream",
          "name": "stdout",
          "text": [
            "Cardiocranius scincus\n"
          ]
        }
      ]
    }
  ]
}